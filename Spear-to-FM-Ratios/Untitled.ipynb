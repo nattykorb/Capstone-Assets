{
 "cells": [
  {
   "cell_type": "code",
   "execution_count": 1,
   "metadata": {},
   "outputs": [
    {
     "ename": "FileNotFoundError",
     "evalue": "[Errno 2] No such file or directory: 'SHEARS_LRG_snip_denoised base -35+partials.txt'",
     "output_type": "error",
     "traceback": [
      "\u001b[0;31m---------------------------------------------------------------------------\u001b[0m",
      "\u001b[0;31mFileNotFoundError\u001b[0m                         Traceback (most recent call last)",
      "\u001b[0;32m<ipython-input-1-233cb20e3e76>\u001b[0m in \u001b[0;36m<module>\u001b[0;34m\u001b[0m\n\u001b[0;32m----> 1\u001b[0;31m \u001b[0;32mwith\u001b[0m \u001b[0mopen\u001b[0m \u001b[0;34m(\u001b[0m\u001b[0;34m'SHEARS_LRG_snip_denoised base -35+partials.txt'\u001b[0m\u001b[0;34m,\u001b[0m \u001b[0;34m'rt'\u001b[0m\u001b[0;34m)\u001b[0m \u001b[0;32mas\u001b[0m \u001b[0mmyfile\u001b[0m\u001b[0;34m:\u001b[0m  \u001b[0;31m# Open lorem.txt for reading text\u001b[0m\u001b[0;34m\u001b[0m\u001b[0;34m\u001b[0m\u001b[0m\n\u001b[0m\u001b[1;32m      2\u001b[0m     \u001b[0mcontents\u001b[0m \u001b[0;34m=\u001b[0m \u001b[0mmyfile\u001b[0m\u001b[0;34m.\u001b[0m\u001b[0mread\u001b[0m\u001b[0;34m(\u001b[0m\u001b[0;34m)\u001b[0m                                                  \u001b[0;31m# Read the entire file to a string\u001b[0m\u001b[0;34m\u001b[0m\u001b[0;34m\u001b[0m\u001b[0m\n\u001b[1;32m      3\u001b[0m \u001b[0mprint\u001b[0m\u001b[0;34m(\u001b[0m\u001b[0mcontents\u001b[0m\u001b[0;34m)\u001b[0m                                                    \u001b[0;31m# Print the string\u001b[0m\u001b[0;34m\u001b[0m\u001b[0;34m\u001b[0m\u001b[0m\n\u001b[1;32m      4\u001b[0m \u001b[0;34m\u001b[0m\u001b[0m\n\u001b[1;32m      5\u001b[0m \u001b[0;34m\u001b[0m\u001b[0m\n",
      "\u001b[0;31mFileNotFoundError\u001b[0m: [Errno 2] No such file or directory: 'SHEARS_LRG_snip_denoised base -35+partials.txt'"
     ]
    }
   ],
   "source": [
    "with open ('SHEARS_LRG_snip_denoised base -35+partials.txt', 'rt') as myfile:  # Open lorem.txt for reading text\n",
    "    contents = myfile.read()                                                  # Read the entire file to a string\n",
    "print(contents)                                                    # Print the string\n",
    "\n",
    "\n",
    "\n",
    "strings = [\n",
    "    \"04/10/2000 02 75 30 54 86\",\n",
    "    \"04/16/2000 63 63 48 32 12\",\n",
    "    \"04/15/2000 36 47 68 09 40\",\n",
    "    \"04/14/2000 06 27 31 36 43\",\n",
    "    \"04/13/2000 03 08 41 60 87\"\n",
    "]\n",
    "\n",
    "numbers = list()\n",
    "numberlist = list()\n",
    "\n",
    "for s in strings:\n",
    "    lst = s.rstrip().split(\"\\t\")\n",
    "    if len(lst) > 1:\n",
    "        lst = lst[1].split(\" \")\n",
    "        numberlist.append(lst)\n",
    "        for n in lst:\n",
    "            numbers.append(n)\n",
    "\n",
    "print(numbers)\n",
    "print(numberlist)"
   ]
  },
  {
   "cell_type": "code",
   "execution_count": null,
   "metadata": {},
   "outputs": [],
   "source": []
  }
 ],
 "metadata": {
  "kernelspec": {
   "display_name": "Python 3",
   "language": "python",
   "name": "python3"
  },
  "language_info": {
   "codemirror_mode": {
    "name": "ipython",
    "version": 3
   },
   "file_extension": ".py",
   "mimetype": "text/x-python",
   "name": "python",
   "nbconvert_exporter": "python",
   "pygments_lexer": "ipython3",
   "version": "3.8.5"
  }
 },
 "nbformat": 4,
 "nbformat_minor": 4
}
